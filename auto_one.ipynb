{
  "nbformat": 4,
  "nbformat_minor": 0,
  "metadata": {
    "colab": {
      "provenance": []
    },
    "kernelspec": {
      "name": "python3",
      "display_name": "Python 3"
    },
    "language_info": {
      "name": "python"
    }
  },
  "cells": [
    {
      "cell_type": "code",
      "execution_count": 85,
      "metadata": {
        "id": "UtdSnxtvdkgh"
      },
      "outputs": [],
      "source": [
        "import pandas as pd"
      ]
    },
    {
      "cell_type": "code",
      "source": [
        "df = pd.read_csv('teste.csv',delimiter=';')\n",
        "\n",
        "type(df)"
      ],
      "metadata": {
        "colab": {
          "base_uri": "https://localhost:8080/"
        },
        "id": "DhMcLXCLe0FG",
        "outputId": "641d48cd-b220-4505-e7a7-36a170ccf38f"
      },
      "execution_count": 86,
      "outputs": [
        {
          "output_type": "execute_result",
          "data": {
            "text/plain": [
              "pandas.core.frame.DataFrame"
            ]
          },
          "metadata": {},
          "execution_count": 86
        }
      ]
    },
    {
      "cell_type": "code",
      "source": [
        "df['DATA'] = df['DATA'].apply(lambda x: x[:10])\n",
        "df['VALOR'] = df['VALOR'].apply(lambda x: x.replace('R$', ''))\n",
        "df['VALOR'] = df['VALOR'].apply(lambda x: x.replace(',','.'))\n",
        "df['VALOR'] = df['VALOR'].astype(float)"
      ],
      "metadata": {
        "id": "Y050iGGWe8QN"
      },
      "execution_count": 87,
      "outputs": []
    },
    {
      "cell_type": "code",
      "source": [
        "df =df.groupby('DATA')['VALOR'].sum()"
      ],
      "metadata": {
        "id": "uKH9qfgzhGxg"
      },
      "execution_count": 89,
      "outputs": []
    },
    {
      "cell_type": "code",
      "source": [
        "df.to_csv('teste.csv')"
      ],
      "metadata": {
        "id": "DkQb3-Uc51tY"
      },
      "execution_count": 91,
      "outputs": []
    }
  ]
}